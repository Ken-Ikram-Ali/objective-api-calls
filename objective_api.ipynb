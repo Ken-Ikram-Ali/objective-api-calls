{
 "cells": [
  {
   "cell_type": "markdown",
   "metadata": {},
   "source": [
    "## Objective API calls"
   ]
  },
  {
   "cell_type": "markdown",
   "metadata": {},
   "source": [
    "### 1. Retrieve List of Collections"
   ]
  },
  {
   "cell_type": "code",
   "execution_count": null,
   "metadata": {},
   "outputs": [],
   "source": [
    "# Accessing collections\n",
    "\n",
    "import requests\n",
    "company_prefix = \"example\"\n",
    "# The URL to access the collection\n",
    "url = f'https://rest.kendis.io/api/{company_prefix}/collections'\n",
    "# Your credentials\n",
    "username = \"\"  # add kendis username\n",
    "password = \"\"  # add kendis key\n",
    "\n",
    "# Send the GET request with Basic Auth\n",
    "response = requests.get(url, auth=(username, password))\n",
    "\n",
    "# Check the response\n",
    "if response.status_code == 200:\n",
    "    # Successfully retrieved data\n",
    "    data = response.json()  # Parse JSON response\n",
    "    print(\"Data retrieved successfully:\")\n",
    "    print(data)\n",
    "else:\n",
    "    # Handle error\n",
    "    print(f\"Failed to retrieve data. HTTP Status Code: {response.status_code}\")\n",
    "    print(\"Response content:\", response.text)"
   ]
  },
  {
   "cell_type": "code",
   "execution_count": null,
   "metadata": {},
   "outputs": [],
   "source": [
    "data['data']"
   ]
  },
  {
   "cell_type": "markdown",
   "metadata": {},
   "source": [
    "### 2. Retrieve List of Boards"
   ]
  },
  {
   "cell_type": "code",
   "execution_count": null,
   "metadata": {},
   "outputs": [],
   "source": [
    "# Retrieve List of Boards\n",
    "\n",
    "import requests\n",
    "board_id = \"64bd1e57e8721807d84464f0\"\n",
    "url = f'https://rest.kendis.io/api/{company_prefix}/boards?collectionId={board_id}'\n",
    "\n",
    "# Send the GET request with Basic Auth\n",
    "response = requests.get(url, auth=(username, password))\n",
    "\n",
    "# Check the response\n",
    "if response.status_code == 200:\n",
    "    # Successfully retrieved data\n",
    "    list_of_boards_data = response.json()  # Parse JSON response\n",
    "    print(\"Data retrieved successfully:\")\n",
    "    print(list_of_boards_data)\n",
    "else:\n",
    "    # Handle error\n",
    "    print(f\"Failed to retrieve data. HTTP Status Code: {response.status_code}\")\n",
    "    print(\"Response content:\", response.text)\n"
   ]
  },
  {
   "cell_type": "code",
   "execution_count": null,
   "metadata": {},
   "outputs": [],
   "source": [
    "list_of_boards_data['data']"
   ]
  },
  {
   "cell_type": "markdown",
   "metadata": {},
   "source": [
    "### 3. Retrieve List of Objective Groups"
   ]
  },
  {
   "cell_type": "code",
   "execution_count": null,
   "metadata": {},
   "outputs": [],
   "source": [
    "# 2. Retrieve List of Objective Groups\n",
    "\n",
    "import requests\n",
    "board_id = \"66a7f4da2d4f9e11e43b77c3\"\n",
    "# API endpoint\n",
    "url = f\"https://rest.kendis.io/api/{company_prefix}/objective-groups?boardId={board_id}\"\n",
    "\n",
    "# Send the GET request with Basic Auth\n",
    "response = requests.get(url, auth=(username, password))\n",
    "\n",
    "# Check the response\n",
    "if response.status_code == 200:\n",
    "    # Successfully retrieved data\n",
    "    objective_group_data = response.json()  # Parse JSON response\n",
    "    print(\"Data retrieved successfully:\")\n",
    "    print(data)\n",
    "else:\n",
    "    # Handle error\n",
    "    print(f\"Failed to retrieve data. HTTP Status Code: {response.status_code}\")\n",
    "    print(\"Response content:\", response.text)\n"
   ]
  },
  {
   "cell_type": "code",
   "execution_count": null,
   "metadata": {},
   "outputs": [],
   "source": [
    "objective_group_data['data']"
   ]
  }
 ],
 "metadata": {
  "kernelspec": {
   "display_name": "crewai",
   "language": "python",
   "name": "python3"
  },
  "language_info": {
   "codemirror_mode": {
    "name": "ipython",
    "version": 3
   },
   "file_extension": ".py",
   "mimetype": "text/x-python",
   "name": "python",
   "nbconvert_exporter": "python",
   "pygments_lexer": "ipython3",
   "version": "3.11.11"
  }
 },
 "nbformat": 4,
 "nbformat_minor": 2
}
